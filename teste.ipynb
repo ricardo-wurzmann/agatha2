{
 "cells": [
  {
   "cell_type": "code",
   "execution_count": 2,
   "metadata": {},
   "outputs": [
    {
     "name": "stdout",
     "output_type": "stream",
     "text": [
      "Requirement already satisfied: selenium in c:\\users\\cadu\\downloads\\new folder\\lib\\site-packages (4.14.0)\n",
      "Requirement already satisfied: trio~=0.17 in c:\\users\\cadu\\downloads\\new folder\\lib\\site-packages (from selenium) (0.22.2)\n",
      "Requirement already satisfied: urllib3[socks]<3,>=1.26 in c:\\users\\cadu\\downloads\\new folder\\lib\\site-packages (from selenium) (1.26.9)\n",
      "Requirement already satisfied: trio-websocket~=0.9 in c:\\users\\cadu\\downloads\\new folder\\lib\\site-packages (from selenium) (0.11.1)\n",
      "Requirement already satisfied: certifi>=2021.10.8 in c:\\users\\cadu\\downloads\\new folder\\lib\\site-packages (from selenium) (2021.10.8)\n",
      "Requirement already satisfied: cffi>=1.14 in c:\\users\\cadu\\downloads\\new folder\\lib\\site-packages (from trio~=0.17->selenium) (1.15.0)\n",
      "Requirement already satisfied: idna in c:\\users\\cadu\\downloads\\new folder\\lib\\site-packages (from trio~=0.17->selenium) (3.3)\n",
      "Requirement already satisfied: outcome in c:\\users\\cadu\\downloads\\new folder\\lib\\site-packages (from trio~=0.17->selenium) (1.3.0.post0)\n",
      "Requirement already satisfied: sortedcontainers in c:\\users\\cadu\\downloads\\new folder\\lib\\site-packages (from trio~=0.17->selenium) (2.4.0)\n",
      "Requirement already satisfied: exceptiongroup>=1.0.0rc9 in c:\\users\\cadu\\downloads\\new folder\\lib\\site-packages (from trio~=0.17->selenium) (1.1.3)\n",
      "Requirement already satisfied: sniffio in c:\\users\\cadu\\downloads\\new folder\\lib\\site-packages (from trio~=0.17->selenium) (1.2.0)\n",
      "Requirement already satisfied: attrs>=20.1.0 in c:\\users\\cadu\\downloads\\new folder\\lib\\site-packages (from trio~=0.17->selenium) (21.4.0)\n",
      "Requirement already satisfied: pycparser in c:\\users\\cadu\\downloads\\new folder\\lib\\site-packages (from cffi>=1.14->trio~=0.17->selenium) (2.21)\n",
      "Requirement already satisfied: wsproto>=0.14 in c:\\users\\cadu\\downloads\\new folder\\lib\\site-packages (from trio-websocket~=0.9->selenium) (1.2.0)\n",
      "Requirement already satisfied: PySocks!=1.5.7,<2.0,>=1.5.6 in c:\\users\\cadu\\downloads\\new folder\\lib\\site-packages (from urllib3[socks]<3,>=1.26->selenium) (1.7.1)\n",
      "Requirement already satisfied: h11<1,>=0.9.0 in c:\\users\\cadu\\downloads\\new folder\\lib\\site-packages (from wsproto>=0.14->trio-websocket~=0.9->selenium) (0.14.0)\n"
     ]
    },
    {
     "name": "stderr",
     "output_type": "stream",
     "text": [
      "'c:\\Users\\cadu\\Downloads\\New' is not recognized as an internal or external command,\n",
      "operable program or batch file.\n"
     ]
    }
   ],
   "source": [
    "!pip install selenium\n",
    "\n",
    "\n",
    "import sys\n",
    "!{sys.executable} -m pip install selenium\n"
   ]
  },
  {
   "cell_type": "code",
   "execution_count": 3,
   "metadata": {},
   "outputs": [
    {
     "name": "stdout",
     "output_type": "stream",
     "text": [
      "Requirement already satisfied: webdriver_manager in c:\\users\\cadu\\downloads\\new folder\\lib\\site-packages (4.0.1)\n",
      "Requirement already satisfied: python-dotenv in c:\\users\\cadu\\downloads\\new folder\\lib\\site-packages (from webdriver_manager) (1.0.0)\n",
      "Requirement already satisfied: requests in c:\\users\\cadu\\downloads\\new folder\\lib\\site-packages (from webdriver_manager) (2.27.1)\n",
      "Requirement already satisfied: packaging in c:\\users\\cadu\\downloads\\new folder\\lib\\site-packages (from webdriver_manager) (21.3)\n",
      "Requirement already satisfied: pyparsing!=3.0.5,>=2.0.2 in c:\\users\\cadu\\downloads\\new folder\\lib\\site-packages (from packaging->webdriver_manager) (3.0.4)\n",
      "Requirement already satisfied: charset-normalizer~=2.0.0 in c:\\users\\cadu\\downloads\\new folder\\lib\\site-packages (from requests->webdriver_manager) (2.0.4)\n",
      "Requirement already satisfied: idna<4,>=2.5 in c:\\users\\cadu\\downloads\\new folder\\lib\\site-packages (from requests->webdriver_manager) (3.3)\n",
      "Requirement already satisfied: certifi>=2017.4.17 in c:\\users\\cadu\\downloads\\new folder\\lib\\site-packages (from requests->webdriver_manager) (2021.10.8)\n",
      "Requirement already satisfied: urllib3<1.27,>=1.21.1 in c:\\users\\cadu\\downloads\\new folder\\lib\\site-packages (from requests->webdriver_manager) (1.26.9)\n"
     ]
    }
   ],
   "source": [
    "!pip install webdriver_manager\n"
   ]
  },
  {
   "cell_type": "code",
   "execution_count": 4,
   "metadata": {},
   "outputs": [
    {
     "name": "stdout",
     "output_type": "stream",
     "text": [
      "Requirement already satisfied: beautifulsoup4 in c:\\users\\cadu\\downloads\\new folder\\lib\\site-packages (4.11.1)\n",
      "Requirement already satisfied: soupsieve>1.2 in c:\\users\\cadu\\downloads\\new folder\\lib\\site-packages (from beautifulsoup4) (2.3.1)\n"
     ]
    }
   ],
   "source": [
    "!pip install beautifulsoup4\n"
   ]
  },
  {
   "cell_type": "code",
   "execution_count": 8,
   "metadata": {},
   "outputs": [
    {
     "ename": "PermissionError",
     "evalue": "[WinError 5] Access is denied: 'C:\\\\Users\\\\cadu\\\\.wdm\\\\drivers\\\\chromedriver\\\\win64\\\\119.0.6045.105\\\\chromedriver-win32\\\\chromedriver.exe' -> 'C:\\\\Users\\\\cadu\\\\.wdm\\\\drivers\\\\chromedriver\\\\win64\\\\119.0.6045.105\\\\chromedriver.exe'",
     "output_type": "error",
     "traceback": [
      "\u001b[1;31m---------------------------------------------------------------------------\u001b[0m",
      "\u001b[1;31mPermissionError\u001b[0m                           Traceback (most recent call last)",
      "File \u001b[1;32mc:\\Users\\cadu\\Downloads\\New folder\\lib\\site-packages\\webdriver_manager\\core\\file_manager.py:65\u001b[0m, in \u001b[0;36mFileManager.__extract_zip\u001b[1;34m(self, archive_file, to_directory)\u001b[0m\n\u001b[0;32m     64\u001b[0m \u001b[39mtry\u001b[39;00m:\n\u001b[1;32m---> 65\u001b[0m     archive\u001b[39m.\u001b[39;49mextractall(to_directory)\n\u001b[0;32m     66\u001b[0m \u001b[39mexcept\u001b[39;00m \u001b[39mException\u001b[39;00m \u001b[39mas\u001b[39;00m e:\n",
      "File \u001b[1;32mc:\\Users\\cadu\\Downloads\\New folder\\lib\\zipfile.py:1642\u001b[0m, in \u001b[0;36mZipFile.extractall\u001b[1;34m(self, path, members, pwd)\u001b[0m\n\u001b[0;32m   1641\u001b[0m \u001b[39mfor\u001b[39;00m zipinfo \u001b[39min\u001b[39;00m members:\n\u001b[1;32m-> 1642\u001b[0m     \u001b[39mself\u001b[39;49m\u001b[39m.\u001b[39;49m_extract_member(zipinfo, path, pwd)\n",
      "File \u001b[1;32mc:\\Users\\cadu\\Downloads\\New folder\\lib\\zipfile.py:1696\u001b[0m, in \u001b[0;36mZipFile._extract_member\u001b[1;34m(self, member, targetpath, pwd)\u001b[0m\n\u001b[0;32m   1693\u001b[0m     \u001b[39mreturn\u001b[39;00m targetpath\n\u001b[0;32m   1695\u001b[0m \u001b[39mwith\u001b[39;00m \u001b[39mself\u001b[39m\u001b[39m.\u001b[39mopen(member, pwd\u001b[39m=\u001b[39mpwd) \u001b[39mas\u001b[39;00m source, \\\n\u001b[1;32m-> 1696\u001b[0m      \u001b[39mopen\u001b[39;49m(targetpath, \u001b[39m\"\u001b[39;49m\u001b[39mwb\u001b[39;49m\u001b[39m\"\u001b[39;49m) \u001b[39mas\u001b[39;00m target:\n\u001b[0;32m   1697\u001b[0m     shutil\u001b[39m.\u001b[39mcopyfileobj(source, target)\n",
      "\u001b[1;31mPermissionError\u001b[0m: [Errno 13] Permission denied: 'C:\\\\Users\\\\cadu\\\\.wdm\\\\drivers\\\\chromedriver\\\\win64\\\\119.0.6045.105\\\\chromedriver-win32\\\\chromedriver.exe'",
      "\nDuring handling of the above exception, another exception occurred:\n",
      "\u001b[1;31mPermissionError\u001b[0m                           Traceback (most recent call last)",
      "\u001b[1;32mc:\\Users\\cadu\\Dropbox\\Cadu\\estudos\\Estagio\\Agatha2\\agatha2\\teste.ipynb Cell 4\u001b[0m line \u001b[0;36m<cell line: 13>\u001b[1;34m()\u001b[0m\n\u001b[0;32m     <a href='vscode-notebook-cell:/c%3A/Users/cadu/Dropbox/Cadu/estudos/Estagio/Agatha2/agatha2/teste.ipynb#W4sZmlsZQ%3D%3D?line=9'>10</a>\u001b[0m \u001b[39mfrom\u001b[39;00m \u001b[39mselenium\u001b[39;00m\u001b[39m.\u001b[39;00m\u001b[39mwebdriver\u001b[39;00m\u001b[39m.\u001b[39;00m\u001b[39msupport\u001b[39;00m \u001b[39mimport\u001b[39;00m expected_conditions \u001b[39mas\u001b[39;00m EC\n\u001b[0;32m     <a href='vscode-notebook-cell:/c%3A/Users/cadu/Dropbox/Cadu/estudos/Estagio/Agatha2/agatha2/teste.ipynb#W4sZmlsZQ%3D%3D?line=11'>12</a>\u001b[0m \u001b[39m# Configuração do Selenium\u001b[39;00m\n\u001b[1;32m---> <a href='vscode-notebook-cell:/c%3A/Users/cadu/Dropbox/Cadu/estudos/Estagio/Agatha2/agatha2/teste.ipynb#W4sZmlsZQ%3D%3D?line=12'>13</a>\u001b[0m servico \u001b[39m=\u001b[39m Service(ChromeDriverManager()\u001b[39m.\u001b[39;49minstall())\n\u001b[0;32m     <a href='vscode-notebook-cell:/c%3A/Users/cadu/Dropbox/Cadu/estudos/Estagio/Agatha2/agatha2/teste.ipynb#W4sZmlsZQ%3D%3D?line=13'>14</a>\u001b[0m navegador \u001b[39m=\u001b[39m webdriver\u001b[39m.\u001b[39mChrome(service\u001b[39m=\u001b[39mservico)\n\u001b[0;32m     <a href='vscode-notebook-cell:/c%3A/Users/cadu/Dropbox/Cadu/estudos/Estagio/Agatha2/agatha2/teste.ipynb#W4sZmlsZQ%3D%3D?line=15'>16</a>\u001b[0m \u001b[39m# Configuração do SQLite\u001b[39;00m\n",
      "File \u001b[1;32mc:\\Users\\cadu\\Downloads\\New folder\\lib\\site-packages\\webdriver_manager\\chrome.py:40\u001b[0m, in \u001b[0;36mChromeDriverManager.install\u001b[1;34m(self)\u001b[0m\n\u001b[0;32m     39\u001b[0m \u001b[39mdef\u001b[39;00m \u001b[39minstall\u001b[39m(\u001b[39mself\u001b[39m) \u001b[39m-\u001b[39m\u001b[39m>\u001b[39m \u001b[39mstr\u001b[39m:\n\u001b[1;32m---> 40\u001b[0m     driver_path \u001b[39m=\u001b[39m \u001b[39mself\u001b[39;49m\u001b[39m.\u001b[39;49m_get_driver_binary_path(\u001b[39mself\u001b[39;49m\u001b[39m.\u001b[39;49mdriver)\n\u001b[0;32m     41\u001b[0m     os\u001b[39m.\u001b[39mchmod(driver_path, \u001b[39m0o755\u001b[39m)\n\u001b[0;32m     42\u001b[0m     \u001b[39mreturn\u001b[39;00m driver_path\n",
      "File \u001b[1;32mc:\\Users\\cadu\\Downloads\\New folder\\lib\\site-packages\\webdriver_manager\\core\\manager.py:41\u001b[0m, in \u001b[0;36mDriverManager._get_driver_binary_path\u001b[1;34m(self, driver)\u001b[0m\n\u001b[0;32m     39\u001b[0m os_type \u001b[39m=\u001b[39m \u001b[39mself\u001b[39m\u001b[39m.\u001b[39mget_os_type()\n\u001b[0;32m     40\u001b[0m file \u001b[39m=\u001b[39m \u001b[39mself\u001b[39m\u001b[39m.\u001b[39m_download_manager\u001b[39m.\u001b[39mdownload_file(driver\u001b[39m.\u001b[39mget_driver_download_url(os_type))\n\u001b[1;32m---> 41\u001b[0m binary_path \u001b[39m=\u001b[39m \u001b[39mself\u001b[39;49m\u001b[39m.\u001b[39;49m_cache_manager\u001b[39m.\u001b[39;49msave_file_to_cache(driver, file)\n\u001b[0;32m     42\u001b[0m \u001b[39mreturn\u001b[39;00m binary_path\n",
      "File \u001b[1;32mc:\\Users\\cadu\\Downloads\\New folder\\lib\\site-packages\\webdriver_manager\\core\\driver_cache.py:54\u001b[0m, in \u001b[0;36mDriverCacheManager.save_file_to_cache\u001b[1;34m(self, driver, file)\u001b[0m\n\u001b[0;32m     52\u001b[0m path \u001b[39m=\u001b[39m \u001b[39mself\u001b[39m\u001b[39m.\u001b[39m__get_path(driver)\n\u001b[0;32m     53\u001b[0m archive \u001b[39m=\u001b[39m \u001b[39mself\u001b[39m\u001b[39m.\u001b[39msave_archive_file(file, path)\n\u001b[1;32m---> 54\u001b[0m files \u001b[39m=\u001b[39m \u001b[39mself\u001b[39;49m\u001b[39m.\u001b[39;49munpack_archive(archive, path)\n\u001b[0;32m     55\u001b[0m binary \u001b[39m=\u001b[39m \u001b[39mself\u001b[39m\u001b[39m.\u001b[39m__get_binary(files, driver\u001b[39m.\u001b[39mget_name())\n\u001b[0;32m     56\u001b[0m binary_path \u001b[39m=\u001b[39m os\u001b[39m.\u001b[39mpath\u001b[39m.\u001b[39mjoin(path, binary)\n",
      "File \u001b[1;32mc:\\Users\\cadu\\Downloads\\New folder\\lib\\site-packages\\webdriver_manager\\core\\driver_cache.py:49\u001b[0m, in \u001b[0;36mDriverCacheManager.unpack_archive\u001b[1;34m(self, archive, path)\u001b[0m\n\u001b[0;32m     48\u001b[0m \u001b[39mdef\u001b[39;00m \u001b[39munpack_archive\u001b[39m(\u001b[39mself\u001b[39m, archive, path):\n\u001b[1;32m---> 49\u001b[0m     \u001b[39mreturn\u001b[39;00m \u001b[39mself\u001b[39;49m\u001b[39m.\u001b[39;49m_file_manager\u001b[39m.\u001b[39;49munpack_archive(archive, path)\n",
      "File \u001b[1;32mc:\\Users\\cadu\\Downloads\\New folder\\lib\\site-packages\\webdriver_manager\\core\\file_manager.py:57\u001b[0m, in \u001b[0;36mFileManager.unpack_archive\u001b[1;34m(self, archive_file, target_dir)\u001b[0m\n\u001b[0;32m     55\u001b[0m file_path \u001b[39m=\u001b[39m archive_file\u001b[39m.\u001b[39mfile_path\n\u001b[0;32m     56\u001b[0m \u001b[39mif\u001b[39;00m file_path\u001b[39m.\u001b[39mendswith(\u001b[39m\"\u001b[39m\u001b[39m.zip\u001b[39m\u001b[39m\"\u001b[39m):\n\u001b[1;32m---> 57\u001b[0m     \u001b[39mreturn\u001b[39;00m \u001b[39mself\u001b[39;49m\u001b[39m.\u001b[39;49m__extract_zip(archive_file, target_dir)\n\u001b[0;32m     58\u001b[0m \u001b[39melif\u001b[39;00m file_path\u001b[39m.\u001b[39mendswith(\u001b[39m\"\u001b[39m\u001b[39m.tar.gz\u001b[39m\u001b[39m\"\u001b[39m):\n\u001b[0;32m     59\u001b[0m     \u001b[39mreturn\u001b[39;00m \u001b[39mself\u001b[39m\u001b[39m.\u001b[39m__extract_tar_file(archive_file, target_dir)\n",
      "File \u001b[1;32mc:\\Users\\cadu\\Downloads\\New folder\\lib\\site-packages\\webdriver_manager\\core\\file_manager.py:81\u001b[0m, in \u001b[0;36mFileManager.__extract_zip\u001b[1;34m(self, archive_file, to_directory)\u001b[0m\n\u001b[0;32m     79\u001b[0m         source \u001b[39m=\u001b[39m os\u001b[39m.\u001b[39mpath\u001b[39m.\u001b[39mjoin(full_file_path, file_name)\n\u001b[0;32m     80\u001b[0m         destination \u001b[39m=\u001b[39m os\u001b[39m.\u001b[39mpath\u001b[39m.\u001b[39mjoin(to_directory, file_name)\n\u001b[1;32m---> 81\u001b[0m         os\u001b[39m.\u001b[39;49mreplace(source, destination)\n\u001b[0;32m     82\u001b[0m         file_names\u001b[39m.\u001b[39mappend(file_name)\n\u001b[0;32m     83\u001b[0m \u001b[39mreturn\u001b[39;00m \u001b[39msorted\u001b[39m(file_names, key\u001b[39m=\u001b[39m\u001b[39mlambda\u001b[39;00m x: x\u001b[39m.\u001b[39mlower())\n",
      "\u001b[1;31mPermissionError\u001b[0m: [WinError 5] Access is denied: 'C:\\\\Users\\\\cadu\\\\.wdm\\\\drivers\\\\chromedriver\\\\win64\\\\119.0.6045.105\\\\chromedriver-win32\\\\chromedriver.exe' -> 'C:\\\\Users\\\\cadu\\\\.wdm\\\\drivers\\\\chromedriver\\\\win64\\\\119.0.6045.105\\\\chromedriver.exe'"
     ]
    }
   ],
   "source": [
    "from selenium import webdriver\n",
    "from selenium.webdriver.common.by import By\n",
    "from selenium.webdriver.chrome.service import Service\n",
    "from webdriver_manager.chrome import ChromeDriverManager\n",
    "import time\n",
    "import pyautogui\n",
    "from bs4 import BeautifulSoup\n",
    "import sqlite3\n",
    "from selenium.webdriver.support.ui import WebDriverWait\n",
    "from selenium.webdriver.support import expected_conditions as EC\n",
    "\n",
    "# Configuração do Selenium\n",
    "servico = Service(ChromeDriverManager().install())\n",
    "navegador = webdriver.Chrome(service=servico)\n",
    "\n",
    "# Configuração do SQLite\n",
    "conn = sqlite3.connect('questoes2.db')\n",
    "cursor = conn.cursor()\n",
    "cursor.execute('''\n",
    "CREATE TABLE IF NOT EXISTS questoes (\n",
    "    id INTEGER PRIMARY KEY,\n",
    "    materia TEXT,\n",
    "    submateria TEXT,\n",
    "    texto_da_questao TEXT,\n",
    "    opcao_a TEXT,\n",
    "    opcao_b TEXT,\n",
    "    opcao_c TEXT,\n",
    "    opcao_d TEXT,\n",
    "    opcao_e TEXT\n",
    ")\n",
    "''')\n",
    "conn.commit()\n",
    "\n",
    "\n",
    "\n",
    "# Loop principal\n",
    "for i in range(1, 8):\n",
    "    navegador.get(\"https://projetoagathaedu.com.br/banco-de-questoes.php\")\n",
    "\n",
    "    # Construir o XPath dinamicamente e encontrar o elemento\n",
    "    xpath = f'/html/body/div[6]/a[{i}]'\n",
    "    elemento = navegador.find_element('xpath', xpath)\n",
    "    materia = elemento.text  # Extraia o nome da matéria do texto do link\n",
    "    navegador.execute_script(\"arguments[0].scrollIntoView();\", elemento)\n",
    "    elemento.click()\n",
    "    time.sleep(2)\n",
    "\n",
    "    # Clique para fechar propaganda se necessário\n",
    "    pyautogui.click(x=2354, y=391)\n",
    "    time.sleep(4)\n",
    "\n",
    "    # Clique para fechar propaganda se necessário\n",
    "    pyautogui.click(x=2354, y=391)\n",
    "    time.sleep(3)\n",
    "\n",
    "    elemento = navegador.find_element('xpath', '/html/body/main/article/div[2]/div/div[1]/div[1]/label')\n",
    "    navegador.execute_script(\"arguments[0].scrollIntoView();\", elemento)\n",
    "    elemento.click()\n",
    "    time.sleep(2)\n",
    "\n",
    "    # Encontrar a div \"painel\"\n",
    "\n",
    "    paineis = navegador.find_elements(By.CLASS_NAME, 'painel')\n",
    "    for painel in paineis:\n",
    "        navegador.execute_script(\"arguments[0].scrollIntoView();\", painel)\n",
    "        \n",
    "        # for j in range(1,8):\n",
    "        #     xpath = f'//*[@id=\"tab_wrapper\"]/div[1]/div[2]/div/div/div[{j}]'\n",
    "        #     elemento = navegador.find_element(By.XPATH, xpath)\n",
    "        #     elemento_submateria = elemento.find_element(By.CLASS_NAME, 'lista-tema')\n",
    "        #     submateria = elemento_submateria.text.strip()\n",
    "        #     navegador.execute_script(\"arguments[0].scrollIntoView();\", elemento)\n",
    "        #     elemento.click()\n",
    "        #     time.sleep(2)\n",
    "\n",
    "        opcoes = painel.find_elements(By.CLASS_NAME, 'opcao')\n",
    "        \n",
    "        for opcao in opcoes:\n",
    "            elemento_submateria = opcao.find_element(By.CLASS_NAME, 'lista-tema')\n",
    "            submateria = elemento_submateria.text.strip()\n",
    "            opcao.click()\n",
    "            \n",
    "\n",
    "            time.sleep(1)\n",
    "            \n",
    "        questoes = navegador.find_elements(By.CLASS_NAME, 'questoes-enem-vestibular')\n",
    "        \n",
    "        for questao in questoes:\n",
    "            html_da_questao = questao.get_attribute('outerHTML')\n",
    "            soup = BeautifulSoup(html_da_questao, 'html.parser')\n",
    "            \n",
    "            if soup.find('img') is None:\n",
    "                paragrafos = soup.find_all('p')\n",
    "                texto_questao = ' '.join(paragrafo.get_text(strip=True) for paragrafo in paragrafos if 'class' not in paragrafo.attrs or 'questoes-enem-vestibular-foco' not in paragrafo['class'])\n",
    "\n",
    "                opcoes = soup.find('ol', type='A')\n",
    "                if opcoes:\n",
    "                    opcoes_texto = []\n",
    "                    for li in opcoes.find_all('li'):\n",
    "                        texto = li.get_text(strip=True)\n",
    "                        # Verifica se o texto da opção contém apenas caracteres simples\n",
    "                        # (sem marcações HTML complexas como fórmulas matemáticas)\n",
    "                        if texto.isprintable() and not any(char in texto for char in \"<>\"):\n",
    "                            opcoes_texto.append(texto)\n",
    "                        else:\n",
    "                            opcoes_texto.append('')\n",
    "\n",
    "                # Ajustar a lista de opções para ter sempre 5 elementos\n",
    "                opcoes_texto = opcoes_texto[:5] + [''] * (5 - len(opcoes_texto))\n",
    "\n",
    "\n",
    "                # Verificar se a questão já existe no banco de dados\n",
    "                cursor.execute(\"SELECT * FROM questoes WHERE materia = ? AND submateria = ? AND texto_da_questao = ?\", (materia, submateria, texto_questao))\n",
    "                resultado = cursor.fetchone()\n",
    "                if resultado is None:\n",
    "                    cursor.execute(\"INSERT INTO questoes (materia, submateria, texto_da_questao, opcao_a, opcao_b, opcao_c, opcao_d, opcao_e) VALUES (?, ?, ?, ?, ?, ?, ?, ?)\", (materia, submateria, texto_questao, *opcoes_texto))\n",
    "                    conn.commit()\n",
    "        \n",
    "        print('------------------------------------------------------')\n",
    "        \n",
    "        navegador.back()\n",
    "        time.sleep(2)\n",
    "        painel = navegador.find_element(By.CLASS_NAME, 'painel')\n",
    "\n",
    "\n",
    "\n",
    "navegador.quit()\n",
    "conn.close()\n",
    "\n",
    "\n"
   ]
  },
  {
   "cell_type": "code",
   "execution_count": 6,
   "metadata": {},
   "outputs": [
    {
     "data": {
      "text/plain": [
       "Point(x=1445, y=889)"
      ]
     },
     "execution_count": 6,
     "metadata": {},
     "output_type": "execute_result"
    }
   ],
   "source": [
    "import pyautogui\n",
    "import time\n",
    "time.sleep(3)\n",
    "pyautogui.position()\n"
   ]
  },
  {
   "cell_type": "code",
   "execution_count": null,
   "metadata": {},
   "outputs": [],
   "source": []
  }
 ],
 "metadata": {
  "kernelspec": {
   "display_name": "base",
   "language": "python",
   "name": "python3"
  },
  "language_info": {
   "codemirror_mode": {
    "name": "ipython",
    "version": 3
   },
   "file_extension": ".py",
   "mimetype": "text/x-python",
   "name": "python",
   "nbconvert_exporter": "python",
   "pygments_lexer": "ipython3",
   "version": "3.9.12"
  }
 },
 "nbformat": 4,
 "nbformat_minor": 2
}
